{
 "cells": [
  {
   "cell_type": "code",
   "execution_count": 2,
   "id": "16ae5fbc-6f25-4f93-9698-43d33b4ea069",
   "metadata": {},
   "outputs": [],
   "source": [
    "# Import \n",
    "import json\n",
    "import csv\n",
    "import os\n",
    "import pandas as pd\n",
    "import seaborn as sns\n",
    "import matplotlib.pyplot as plt\n",
    "import re\n",
    "import ast\n",
    "import numpy as np\n"
   ]
  },
  {
   "cell_type": "code",
   "execution_count": 3,
   "id": "2732ede5-fba7-46de-afd7-b686ab09a593",
   "metadata": {},
   "outputs": [],
   "source": [
    "# Import Retail Data Set for Analysis\n",
    "df = pd.read_csv('Data/Retail_Transaction_Dataset.csv', low_memory=False)"
   ]
  },
  {
   "cell_type": "code",
   "execution_count": 4,
   "id": "cd7c1216-b739-42f5-9c65-4f6dbdfd23fb",
   "metadata": {},
   "outputs": [
    {
     "name": "stdout",
     "output_type": "stream",
     "text": [
      "There are 100000 rows in the dataset\n",
      "There are 10 columns in the dataset\n"
     ]
    }
   ],
   "source": [
    "# Check Rows and columns\n",
    "num_rows = df.shape[0]\n",
    "num_cols = df.shape[1]\n",
    "\n",
    "print(f'There are {num_rows} rows in the dataset')\n",
    "print(f'There are {num_cols} columns in the dataset')"
   ]
  },
  {
   "cell_type": "code",
   "execution_count": 5,
   "id": "89c89522-3beb-46b0-a929-db6bd120e520",
   "metadata": {},
   "outputs": [
    {
     "name": "stdout",
     "output_type": "stream",
     "text": [
      "<class 'pandas.core.frame.DataFrame'>\n",
      "RangeIndex: 100000 entries, 0 to 99999\n",
      "Data columns (total 10 columns):\n",
      " #   Column              Non-Null Count   Dtype  \n",
      "---  ------              --------------   -----  \n",
      " 0   CustomerID          100000 non-null  int64  \n",
      " 1   ProductID           100000 non-null  object \n",
      " 2   Quantity            100000 non-null  int64  \n",
      " 3   Price               100000 non-null  float64\n",
      " 4   TransactionDate     100000 non-null  object \n",
      " 5   PaymentMethod       100000 non-null  object \n",
      " 6   StoreLocation       100000 non-null  object \n",
      " 7   ProductCategory     100000 non-null  object \n",
      " 8   DiscountApplied(%)  100000 non-null  float64\n",
      " 9   TotalAmount         100000 non-null  float64\n",
      "dtypes: float64(3), int64(2), object(5)\n",
      "memory usage: 7.6+ MB\n"
     ]
    }
   ],
   "source": [
    "# Check Column Types\n",
    "df.info()"
   ]
  },
  {
   "cell_type": "code",
   "execution_count": 7,
   "id": "d25659e2-5132-434a-a3b7-d514ba4c6aab",
   "metadata": {},
   "outputs": [
    {
     "name": "stdout",
     "output_type": "stream",
     "text": [
      "Columns with 95% missing values\n",
      "CustomerID            0\n",
      "ProductID             0\n",
      "Quantity              0\n",
      "Price                 0\n",
      "TransactionDate       0\n",
      "PaymentMethod         0\n",
      "StoreLocation         0\n",
      "ProductCategory       0\n",
      "DiscountApplied(%)    0\n",
      "TotalAmount           0\n",
      "dtype: int64\n"
     ]
    }
   ],
   "source": [
    "# There are no missing values.\n",
    "missing = df. isnull().sum().sort_values(ascending=False)\n",
    "\n",
    "# Get mostly_null by using the missing data * len of dataset. \n",
    "mostly_null = missing[missing > 0.50 * len(df)]\n",
    "print('Columns with 95% missing values')\n",
    "print(missing)"
   ]
  },
  {
   "cell_type": "code",
   "execution_count": null,
   "id": "ea18c064-cbf0-45aa-946c-55ac0e00ee15",
   "metadata": {},
   "outputs": [],
   "source": []
  }
 ],
 "metadata": {
  "kernelspec": {
   "display_name": "Python (shap_env)",
   "language": "python",
   "name": "shap_env"
  },
  "language_info": {
   "codemirror_mode": {
    "name": "ipython",
    "version": 3
   },
   "file_extension": ".py",
   "mimetype": "text/x-python",
   "name": "python",
   "nbconvert_exporter": "python",
   "pygments_lexer": "ipython3",
   "version": "3.13.2"
  }
 },
 "nbformat": 4,
 "nbformat_minor": 5
}
